{
 "cells": [
  {
   "cell_type": "markdown",
   "metadata": {},
   "source": [
    "# Mutual Information Gradient Estimation (MIGE) Toy Experiment"
   ]
  },
  {
   "cell_type": "markdown",
   "metadata": {
    "toc-hr-collapsed": true,
    "toc-nb-collapsed": true
   },
   "source": [
    "## Imports\n",
    "\n",
    "Requirements:\n",
    "\n",
    "- pytorch >= 1.2.0\n",
    "- numpy\n",
    "- tqdm\n",
    "- matplotlib"
   ]
  },
  {
   "cell_type": "code",
   "execution_count": 1,
   "metadata": {},
   "outputs": [],
   "source": [
    "import torch\n",
    "import torch.nn as nn\n",
    "import torch.nn.functional as F\n",
    "import numpy as np\n",
    "from tqdm import tqdm\n",
    "from matplotlib import pyplot as plt\n",
    "\n",
    "import os\n",
    "os.environ['CUDA_VISIBLE_DEVICES'] = '3'"
   ]
  },
  {
   "cell_type": "markdown",
   "metadata": {
    "toc-hr-collapsed": true,
    "toc-nb-collapsed": true
   },
   "source": [
    "## Correlated Gaussian Problem\n",
    "\n",
    "$d$-d correlated gaussian variables $x$ and $y$, where $\\mathrm{corr}(x_i, y_i) = \\delta_{ij} \\rho, \\rho \\in (-1, 1)$,"
   ]
  },
  {
   "cell_type": "markdown",
   "metadata": {
    "toc-hr-collapsed": true,
    "toc-nb-collapsed": true
   },
   "source": [
    "### Data Generator\n",
    "\n",
    "Generate random variable $X \\sim N(0,1)$ and noise $\\epsilon \\sim N(0,1)$,\n",
    "\n",
    "$Y = \\rho X + \\sqrt{1-\\rho^2} \\epsilon$, then $(X, Y)$ is the correlated gaussian."
   ]
  },
  {
   "cell_type": "code",
   "execution_count": 2,
   "metadata": {},
   "outputs": [],
   "source": [
    "def GenerateSamples(d, rho, num_sample):\n",
    "    xs = torch.randn(num_sample, d).cuda()\n",
    "    noise = torch.randn(num_sample, d).cuda()\n",
    "    ys = rho * xs + (1-rho**2)**0.5 * noise\n",
    "    xs_ys = torch.cat([xs, ys], dim=-1)\n",
    "    return xs_ys, xs, ys"
   ]
  },
  {
   "cell_type": "markdown",
   "metadata": {
    "toc-hr-collapsed": true,
    "toc-nb-collapsed": true
   },
   "source": [
    "### True Values\n",
    "\n",
    "True MI $I(x; y)= - \\frac{d}{2} \\ln (1-\\rho^2)$,\n",
    "\n",
    "True gradient $\\nabla_\\rho I(x; y) = \\frac{\\rho d}{1-\\rho^2}$."
   ]
  },
  {
   "cell_type": "code",
   "execution_count": 3,
   "metadata": {},
   "outputs": [],
   "source": [
    "def ComputeTrueValues(d, axis_min, axis_max):\n",
    "    num_point = 256\n",
    "    rho = np.linspace(axis_min, axis_max, num_point)\n",
    "    mi = - np.log(1 - rho ** 2) * d / 2\n",
    "    gradient = (rho * d) / (1 - rho ** 2)\n",
    "\n",
    "    np.savez('results/true_{}.npz'.format(d), rho=rho, mi=mi, gradient=gradient)\n",
    "\n",
    "    print('Complete: {}-d true values.'.format(d))\n",
    "    print('  Save as: true_{}.npz'.format(d))"
   ]
  },
  {
   "cell_type": "markdown",
   "metadata": {
    "toc-hr-collapsed": true,
    "toc-nb-collapsed": true
   },
   "source": [
    "## MINE\n",
    "\n",
    "Mutual Information Neural Estimation (MINE), proposed by [1], requires a neural network to approximate MI.\n",
    "\n",
    "[1]. Mohamed Ishmael Belghazi, Aristide Baratin, Sai Rajeswar, Sherjil Ozair, Yoshua Bengio, Aaron Courville, and R Devon Hjelm. Mine: mutual information neural estimation. ICML, 2018."
   ]
  },
  {
   "cell_type": "code",
   "execution_count": 4,
   "metadata": {},
   "outputs": [],
   "source": [
    "class Net(nn.Module):\n",
    "    def __init__(self, d, H):\n",
    "        super().__init__()\n",
    "        self.d = d\n",
    "        self.H = H\n",
    "        self.fc1 = nn.Linear(self.d, self.H)\n",
    "        self.fc2 = nn.Linear(self.H, self.H)\n",
    "        self.fc3 = nn.Linear(self.H, 20)\n",
    "\n",
    "    def forward(self, x):\n",
    "        h1 = F.relu(self.fc1(x))\n",
    "        h2 = F.relu(self.fc2(h1))\n",
    "        h3 = self.fc3(h2)\n",
    "        return h3"
   ]
  },
  {
   "cell_type": "markdown",
   "metadata": {},
   "source": [
    "### MINE (DV)\n",
    "\n",
    "MINE use KL Donsker-Varadhan lower bound,\n",
    "\n",
    "$D_{KL}(\\mathbb{P} \\| \\mathbb{Q}) \\geq \\sup_{T \\in F} \\mathbb{E}_{\\mathbb{P}}[T] - \\log(\\mathbb{E}_{\\mathbb{Q}}[e^T])$.\n",
    "\n",
    "Let $F=\\left\\{ T_{\\theta}\\right\\}_{\\theta \\in \\Theta}$ be the set of functions parametrized by a neural network, MINE(DV) is defined as,\n",
    "\n",
    "$\\widehat{I(x;y)} = \\sup_{\\theta \\in \\Theta}  \\mathbb{E}_{\\mathbb{P}_{xy}^n} \\left[ T_{\\theta} \\right] - \\log \\left( \\mathbb{E}_{\\mathbb{P}_{x}^n \\mathbb{P}_y^n} \\left[ e^T_{\\theta} \\right] \\right)$.\n",
    "\n",
    "Stochastic mini-batch leads to a biased estimation. To reduce it, exponential moving average should be applied."
   ]
  },
  {
   "cell_type": "code",
   "execution_count": 5,
   "metadata": {},
   "outputs": [],
   "source": [
    "class EMA():\n",
    "    def __init__(self, model, decay):\n",
    "        self.model = model\n",
    "        self.decay = decay\n",
    "        self.shadow = {}\n",
    "        self.backup = {}\n",
    "\n",
    "    def register(self):\n",
    "        for name, param in self.model.named_parameters():\n",
    "            if param.requires_grad:\n",
    "                self.shadow[name] = param.data.clone()\n",
    "\n",
    "    def update(self):\n",
    "        for name, param in self.model.named_parameters():\n",
    "            if param.requires_grad:\n",
    "                assert name in self.shadow\n",
    "                new_average = (1.0 - self.decay) * param.data + self.decay * self.shadow[name]\n",
    "                self.shadow[name] = new_average.clone()\n",
    "\n",
    "    def apply_shadow(self):\n",
    "        for name, param in self.model.named_parameters():\n",
    "            if param.requires_grad:\n",
    "                assert name in self.shadow\n",
    "                self.backup[name] = param.data\n",
    "                param.data = self.shadow[name]\n",
    "\n",
    "    def restore(self):\n",
    "        for name, param in self.model.named_parameters():\n",
    "            if param.requires_grad:\n",
    "                assert name in self.backup\n",
    "                param.data = self.backup[name]\n",
    "        self.backup = {}"
   ]
  },
  {
   "cell_type": "code",
   "execution_count": 6,
   "metadata": {},
   "outputs": [],
   "source": [
    "def MINE_DV(d, range_rho, num_sample, num_epoch, num_hidden_unit, GenerateData):\n",
    "    MI_approximation = []\n",
    "    gradient_approximation = []\n",
    "    for rho in range_rho:\n",
    "        model1 = Net(d, num_hidden_unit).cuda()\n",
    "        model2 = Net(d, num_hidden_unit).cuda()\n",
    "        ema1 = EMA(model1, 0.999)\n",
    "        ema2 = EMA(model2, 0.999)\n",
    "        ema1.register()\n",
    "        ema2.register()\n",
    "        optimizer = torch.optim.Adam([\n",
    "            {'params': model1.parameters()},\n",
    "            {'params': model2.parameters()}\n",
    "        ], lr=1e-4)\n",
    "\n",
    "        rho = torch.FloatTensor([rho]).cuda()\n",
    "        rho.requires_grad = True\n",
    "\n",
    "        for epoch in range(num_epoch):\n",
    "            xs_ys, xs, ys = GenerateData(d, rho, num_sample)\n",
    "\n",
    "            pred_x = model1(xs)\n",
    "            pred_y = model2(ys)\n",
    "            us = pred_x @ pred_y.T\n",
    "\n",
    "            mask = torch.eye(num_sample).cuda()\n",
    "            n_mask = 1 - mask\n",
    "\n",
    "            E_pos = torch.sum(mask * us) / num_sample\n",
    "            E_neg = torch.log(torch.sum(torch.exp(us) * n_mask) / (num_sample ** 2 - num_sample))\n",
    "            MI = E_pos - E_neg\n",
    "            loss = - MI\n",
    "\n",
    "            model1.zero_grad()\n",
    "            model2.zero_grad()\n",
    "            loss.backward(retain_graph=True)\n",
    "\n",
    "            if epoch == num_epoch - 1:\n",
    "                MI_approximation.append(MI)\n",
    "                gradient_approximation.append(-rho.grad.data)\n",
    "            else:\n",
    "                rho.grad.data.zero_()\n",
    "                optimizer.step()\n",
    "                ema1.update()\n",
    "                ema2.update()\n",
    "                ema1.apply_shadow()\n",
    "                ema2.apply_shadow()\n",
    "        del model1, model2\n",
    "        del ema1, ema2\n",
    "\n",
    "    gradient_approximation = torch.stack(gradient_approximation).view(-1).detach().cpu().numpy()\n",
    "    MI_approximation = torch.stack(MI_approximation).view(-1).detach().cpu().numpy()\n",
    "    return gradient_approximation, MI_approximation"
   ]
  },
  {
   "cell_type": "code",
   "execution_count": 7,
   "metadata": {},
   "outputs": [],
   "source": [
    "def ComputeMINE(d, axis_min, axis_max, num_lines):\n",
    "    print('Compute MINE(DV) estimation, d={}'.format(d))\n",
    "\n",
    "    num_point = 30\n",
    "    num_sample = 256\n",
    "    num_epoch = 200\n",
    "    num_units = 512\n",
    "\n",
    "    rho = np.linspace(axis_min, axis_max, num_point)\n",
    "    mi, gradient = [], []\n",
    "\n",
    "    for i in tqdm(range(num_lines)):\n",
    "        g, m = MINE_DV(d, rho, num_sample, num_epoch, num_units, GenerateSamples)\n",
    "        mi.append(m)\n",
    "        gradient.append(g)\n",
    "\n",
    "    mi = np.stack(mi, axis=0)\n",
    "    gradient = np.stack(gradient, axis=0)\n",
    "\n",
    "    np.savez('results/mine_{}.npz'.format(d), rho=rho, mi=mi, gradient=gradient)\n",
    "    print('Complete: {} times {}-d mine estimation.'.format(num_lines, d))\n",
    "    print('  Save as: mine_{}.npz'.format(d))"
   ]
  },
  {
   "cell_type": "markdown",
   "metadata": {},
   "source": [
    "### MINE (f)\n",
    "\n",
    "MINE($f$) use another practicable MI lower bound, the NWJ bound, which is defined as,\n",
    "\n",
    "$D_{KL}(\\mathbb{P} \\| \\mathbb{Q}) \\geq \\sup_{T \\in F} \\mathbb{E}_{\\mathbb{P}}[T] - \\mathbb{E}_{\\mathbb{Q}}[e^{T-1}]$."
   ]
  },
  {
   "cell_type": "code",
   "execution_count": 8,
   "metadata": {},
   "outputs": [],
   "source": [
    "def MINE_NWJ(d, range_rho, num_sample, num_epoch, num_hidden_unit, GenerateData):\n",
    "    MI_approximation = []\n",
    "    gradient_approximation = []\n",
    "    for rho in range_rho:\n",
    "        model1 = Net(d, num_hidden_unit).cuda()\n",
    "        model2 = Net(d, num_hidden_unit).cuda()\n",
    "        optimizer = torch.optim.Adam([\n",
    "            {'params': model1.parameters()},\n",
    "            {'params': model2.parameters()}\n",
    "        ], lr=1e-4)\n",
    "\n",
    "        rho = torch.FloatTensor([rho]).cuda()\n",
    "        rho.requires_grad = True\n",
    "\n",
    "        for epoch in range(num_epoch):\n",
    "            xs_ys, xs, ys = GenerateData(d, rho, num_sample)\n",
    "\n",
    "            pred_x = model1(xs)\n",
    "            pred_y = model2(ys)\n",
    "            us = pred_x @ pred_y.T\n",
    "\n",
    "            mask = torch.eye(num_sample).cuda()\n",
    "            n_mask = 1 - mask\n",
    "\n",
    "            E_pos = torch.sum(us * mask) / num_sample\n",
    "            E_neg = torch.sum((torch.exp(us - 1.0) * n_mask)) / (num_sample ** 2 - num_sample)\n",
    "            MI = E_pos - E_neg\n",
    "            loss = - MI\n",
    "\n",
    "            model1.zero_grad()\n",
    "            model2.zero_grad()\n",
    "            loss.backward(retain_graph=True)\n",
    "\n",
    "            if epoch == num_epoch - 1:\n",
    "                MI_approximation.append(MI)\n",
    "                gradient_approximation.append(-rho.grad.data)\n",
    "            else:\n",
    "                rho.grad.data.zero_()\n",
    "                optimizer.step()\n",
    "        del model1, model2\n",
    "\n",
    "    gradient_approximation = torch.stack(gradient_approximation).view(-1).detach().cpu().numpy()\n",
    "    MI_approximation = torch.stack(MI_approximation).view(-1).detach().cpu().numpy()\n",
    "    return gradient_approximation, MI_approximation"
   ]
  },
  {
   "cell_type": "code",
   "execution_count": 9,
   "metadata": {},
   "outputs": [],
   "source": [
    "def ComputeMINE_F(d, axis_min, axis_max, num_lines):\n",
    "    print('Compute MINE-f(NWJ) estimation, d={}'.format(d))\n",
    "\n",
    "    num_point = 30\n",
    "    num_sample = 256\n",
    "    num_epoch = 200\n",
    "    num_units = 512\n",
    "\n",
    "    rho = np.linspace(axis_min, axis_max, num_point)\n",
    "    mi, gradient = [], []\n",
    "\n",
    "    for i in tqdm(range(num_lines)):\n",
    "        g, m = MINE_NWJ(d, rho, num_sample, num_epoch, num_units, GenerateSamples)\n",
    "        mi.append(m)\n",
    "        gradient.append(g)\n",
    "\n",
    "    mi = np.stack(mi, axis=0)\n",
    "    gradient = np.stack(gradient, axis=0)\n",
    "\n",
    "    np.savez('results/mine-f_{}.npz'.format(d), rho=rho, mi=mi, gradient=gradient)\n",
    "    print('Complete: {} times {}-d mine-f estimation.'.format(num_lines, d))\n",
    "    print('  Save as: mine-f_{}.npz'.format(d))"
   ]
  },
  {
   "cell_type": "markdown",
   "metadata": {
    "toc-hr-collapsed": true,
    "toc-nb-collapsed": true
   },
   "source": [
    "## SSGE\n",
    "\n",
    "MIGE is rely on the implicit distributions' score estimation method Spectral Stein Gradient Estimation (SSGE)[2]. We implement a PyTorch version.\n",
    "\n",
    "\n",
    "The official SSGE implementation (tensorflow):\n",
    "https://github.com/thjashin/spectral-stein-grad\n",
    "\n",
    "[2]. Jiaxin Shi, Shengyang Sun, and Jun Zhu. A spectral approach to gradient estimation for implicit distributions. arXiv preprint arXiv:1806.02925, 2018."
   ]
  },
  {
   "cell_type": "code",
   "execution_count": 10,
   "metadata": {},
   "outputs": [],
   "source": [
    "class ScoreEstimator:\n",
    "    def __init__(self):\n",
    "        pass\n",
    "\n",
    "    def rbf_kernel(self, x1, x2, kernel_width):\n",
    "        return torch.exp(\n",
    "            -torch.sum(torch.mul((x1 - x2), (x1 - x2)), dim=-1) / (2 * torch.mul(kernel_width, kernel_width))\n",
    "        )\n",
    "\n",
    "    def gram(self, x1, x2, kernel_width):\n",
    "        x_row = torch.unsqueeze(x1, -2)\n",
    "        x_col = torch.unsqueeze(x2, -3)\n",
    "        kernel_width = kernel_width[..., None, None]\n",
    "        return self.rbf_kernel(x_row, x_col, kernel_width)\n",
    "\n",
    "    def grad_gram(self, x1, x2, kernel_width):\n",
    "        x_row = torch.unsqueeze(x1, -2)\n",
    "        x_col = torch.unsqueeze(x2, -3)\n",
    "        kernel_width = kernel_width[..., None, None]\n",
    "        G = self.rbf_kernel(x_row, x_col, kernel_width)\n",
    "        diff = (x_row - x_col) / (kernel_width[..., None] ** 2)\n",
    "        G_expand = torch.unsqueeze(G, -1)\n",
    "        grad_x2 = G_expand * diff\n",
    "        grad_x1 = G_expand * (-diff)\n",
    "        return G, grad_x1, grad_x2\n",
    "\n",
    "    def heuristic_kernel_width(self, x_samples, x_basis):\n",
    "        n_samples = x_samples.size()[-2]\n",
    "        n_basis = x_basis.size()[-2]\n",
    "        x_samples_expand = torch.unsqueeze(x_samples, -2)\n",
    "        x_basis_expand = torch.unsqueeze(x_basis, -3)\n",
    "        pairwise_dist = torch.sqrt(\n",
    "            torch.sum(torch.mul(x_samples_expand - x_basis_expand, x_samples_expand - x_basis_expand), dim=-1)\n",
    "        )\n",
    "        k = n_samples * n_basis // 2\n",
    "        top_k_values = torch.topk(torch.reshape(pairwise_dist, [-1, n_samples * n_basis]), k=k)[0]\n",
    "        kernel_width = torch.reshape(top_k_values[:, -1], x_samples.size()[:-2])\n",
    "        return kernel_width.detach()\n",
    "\n",
    "    def compute_gradients(self, samples, x=None):\n",
    "        raise NotImplementedError()\n",
    "        "
   ]
  },
  {
   "cell_type": "code",
   "execution_count": 11,
   "metadata": {},
   "outputs": [],
   "source": [
    "class SpectralScoreEstimator(ScoreEstimator):\n",
    "    def __init__(self, n_eigen=None, eta=None, n_eigen_threshold=None):\n",
    "        self._n_eigen = n_eigen\n",
    "        self._eta = eta\n",
    "        self._n_eigen_threshold = n_eigen_threshold\n",
    "        super().__init__()\n",
    "\n",
    "    def nystrom_ext(self, samples, x, eigen_vectors, eigen_values, kernel_width):\n",
    "        M = torch.tensor(samples.size()[-2]).to(samples.device)\n",
    "        Kxq = self.gram(x, samples, kernel_width)\n",
    "        ret = torch.sqrt(M.float()) * torch.matmul(Kxq, eigen_vectors)\n",
    "        ret *= 1. / torch.unsqueeze(eigen_values, dim=-2)\n",
    "        return ret\n",
    "\n",
    "    def compute_gradients(self, samples, x=None):\n",
    "        if x is None:\n",
    "            kernel_width = self.heuristic_kernel_width(samples, samples)\n",
    "            x = samples\n",
    "        else:\n",
    "            _samples = torch.cat([samples, x], dim=-2)\n",
    "            kernel_width = self.heuristic_kernel_width(_samples, _samples)\n",
    "\n",
    "        M = samples.size()[-2]\n",
    "        Kq, grad_K1, grad_K2 = self.grad_gram(samples, samples, kernel_width)\n",
    "        if self._eta is not None:\n",
    "            Kq += self._eta * torch.eye(M)\n",
    "\n",
    "        eigen_values, eigen_vectors = torch.symeig(Kq, eigenvectors=True, upper=True)\n",
    "\n",
    "        if (self._n_eigen is None) and (self._n_eigen_threshold is not None):\n",
    "            eigen_arr = torch.mean(\n",
    "                torch.reshape(eigen_values, [-1, M]), dim=0)\n",
    "\n",
    "            eigen_arr = torch.flip(eigen_arr, [-1])\n",
    "            eigen_arr /= torch.sum(eigen_arr)\n",
    "            eigen_cum = torch.cumsum(eigen_arr, dim=-1)\n",
    "            eigen_lt = torch.lt(eigen_cum, self._n_eigen_threshold)\n",
    "            self._n_eigen = torch.sum(eigen_lt)\n",
    "        if self._n_eigen is not None:\n",
    "            eigen_values = eigen_values[..., -self._n_eigen:]\n",
    "            eigen_vectors = eigen_vectors[..., -self._n_eigen:]\n",
    "        eigen_ext = self.nystrom_ext(samples, x, eigen_vectors, eigen_values, kernel_width)\n",
    "        grad_K1_avg = torch.mean(grad_K1, dim=-3)\n",
    "        M = torch.tensor(M).to(samples.device)\n",
    "        beta = -torch.sqrt(M.float()) * torch.matmul(torch.transpose(eigen_vectors, -1, -2),\n",
    "                                                     grad_K1_avg) / torch.unsqueeze(eigen_values, -1)\n",
    "        grads = torch.matmul(eigen_ext, beta)\n",
    "        self._n_eigen = None\n",
    "        return grads\n"
   ]
  },
  {
   "cell_type": "markdown",
   "metadata": {
    "toc-hr-collapsed": true,
    "toc-nb-collapsed": true
   },
   "source": [
    "## MIGE\n",
    "\n",
    "Our method"
   ]
  },
  {
   "cell_type": "code",
   "execution_count": 12,
   "metadata": {},
   "outputs": [],
   "source": [
    "def entropy_surrogate(estimator, samples):\n",
    "    dlog_q = estimator.compute_gradients(samples.detach(), None)\n",
    "    surrogate_cost = torch.mean(torch.sum(dlog_q.detach() * samples, -1))\n",
    "    return surrogate_cost\n",
    "\n",
    "\n",
    "def MIGE(d, range_rho, num_sample, GenerateData, threshold=None, n_eigen=None):\n",
    "    spectral_j = SpectralScoreEstimator(n_eigen=n_eigen, n_eigen_threshold=threshold)\n",
    "    spectral_m = SpectralScoreEstimator(n_eigen=n_eigen, n_eigen_threshold=threshold)\n",
    "    approximations = []\n",
    "    for rho in range_rho:\n",
    "        rho = torch.FloatTensor([rho]).cuda()\n",
    "        rho.requires_grad = True\n",
    "        xs_ys, xs, ys = GenerateData(d, rho, num_sample)\n",
    "\n",
    "        ans = entropy_surrogate(spectral_j, xs_ys) \\\n",
    "              - entropy_surrogate(spectral_m, ys)\n",
    "\n",
    "        ans.backward()\n",
    "        approximations.append(rho.grad.data)\n",
    "\n",
    "    approximations = torch.stack(approximations).view(-1).detach().cpu().numpy()\n",
    "    return approximations"
   ]
  },
  {
   "cell_type": "code",
   "execution_count": 13,
   "metadata": {},
   "outputs": [],
   "source": [
    "def ComputeMIGE(d, axis_min, axis_max, num_lines):\n",
    "    print('Compute MIGE estimation, d={}'.format(d))\n",
    "\n",
    "    num_point = 32\n",
    "    num_sample = 256\n",
    "\n",
    "    rho = np.linspace(axis_min, axis_max, num_point)\n",
    "    gradient = []\n",
    "\n",
    "    for i in tqdm(range(num_lines)):\n",
    "        g = MIGE(d, rho, num_sample, GenerateSamples, threshold=0.99)\n",
    "        gradient.append(g)\n",
    "\n",
    "    gradient = np.stack(gradient, axis=0)\n",
    "\n",
    "    np.savez('results/mige_{}.npz'.format(d), rho=rho, gradient=gradient)\n",
    "    print('Complete: {} times {}-d mige estimation.'.format(num_lines, d))\n",
    "    print('  Save as: mige_{}.npz'.format(d))"
   ]
  },
  {
   "cell_type": "markdown",
   "metadata": {
    "toc-hr-collapsed": true,
    "toc-nb-collapsed": true
   },
   "source": [
    "## Visualization"
   ]
  },
  {
   "cell_type": "code",
   "execution_count": 14,
   "metadata": {},
   "outputs": [],
   "source": [
    "def Draw(ds, num_lines):\n",
    "    # Plot Setting\n",
    "    plt.figure(figsize=(3.8 * len(ds), 3.6 * 2))\n",
    "\n",
    "    for i in range(len(ds)):\n",
    "        d = ds[i]\n",
    "        true_value = np.load('results/true_{}.npz'.format(d))\n",
    "        true_r, true_mi, true_g = true_value['rho'], true_value['mi'], true_value['gradient']\n",
    "        mine_value = np.load('results/mine_{}.npz'.format(d))\n",
    "        mine_r, mine_mi, mine_g = mine_value['rho'], mine_value['mi'], mine_value['gradient']\n",
    "        mine_f_value = np.load('results/mine-f_{}.npz'.format(d))\n",
    "        mine_f_r, mine_f_mi, mine_f_g = mine_f_value['rho'], mine_f_value['mi'], mine_f_value['gradient']\n",
    "        mige_value = np.load('results/mige_{}.npz'.format(d))\n",
    "        mige_r, mige_g = mige_value['rho'], mige_value['gradient']\n",
    "\n",
    "        plt.subplot(2, len(ds), i + 1)\n",
    "        for j in range(num_lines - 1):\n",
    "            plt.plot(mine_r, mine_mi[j], color='C1', alpha=0.1, linewidth=1.5)\n",
    "        for j in range(num_lines - 1):\n",
    "            plt.plot(mine_f_r, mine_f_mi[j], color='C2', alpha=0.1, linewidth=1.5)\n",
    "        plt.plot(true_r, true_mi, label=r'True MI', linewidth=1.5)\n",
    "        plt.plot(mine_r, mine_mi[num_lines - 1], label=r'MINE', color='C1', linewidth=1.5)\n",
    "        plt.plot(mine_f_r, mine_f_mi[num_lines - 1], label=r'MINE-$f$', color='C2', linewidth=1.5)\n",
    "        plt.title('d = {}'.format(d), fontsize=16)\n",
    "        plt.grid(True, linestyle='-.')\n",
    "        plt.tick_params(labelbottom=False)\n",
    "        if i == 0:\n",
    "            plt.ylabel('Mutual Information', fontsize=16)\n",
    "            plt.legend(loc='upper left', prop={'size': 12})\n",
    "\n",
    "        plt.subplot(2, len(ds), len(ds) + i + 1)\n",
    "        for j in range(num_lines - 1):\n",
    "            plt.plot(mine_r, mine_g[j], color='C1', alpha=0.1, linewidth=1.5)\n",
    "        for j in range(num_lines - 1):\n",
    "            plt.plot(mine_f_r, mine_f_g[j], color='C2', alpha=0.1, linewidth=1.5)\n",
    "        for j in range(num_lines - 1):\n",
    "            plt.plot(mige_r, mige_g[j], color='C3', alpha=0.1, linewidth=1.5)\n",
    "        plt.plot(true_r, true_g, label='True Gradient', linewidth=1.5)\n",
    "        plt.plot(mine_r, mine_g[num_lines - 1], label=r'$\\nabla_{\\rho}$ MINE', color='C1', linewidth=1.5)\n",
    "        plt.plot(mine_f_r, mine_f_g[num_lines - 1], label=r'$\\nabla_{\\rho}$ MINE-$f$', color='C2', linewidth=1.5)\n",
    "        plt.plot(mige_r, mige_g[num_lines - 1], label='MIGE (ours)', color='C3', linewidth=1.5)\n",
    "        plt.xlabel(r'$\\rho$', fontsize=16)\n",
    "        plt.grid(True, linestyle='-.')\n",
    "        if i == 0:\n",
    "            plt.ylabel('Gradient', fontsize=16)\n",
    "            plt.legend(loc='upper left', prop={'size': 12})\n",
    "\n",
    "    plt.tight_layout()\n",
    "    plt.savefig('./toy.pdf', format='pdf')\n",
    "    plt.show()"
   ]
  },
  {
   "cell_type": "markdown",
   "metadata": {
    "toc-hr-collapsed": true,
    "toc-nb-collapsed": true
   },
   "source": [
    "## Calculate\n",
    "\n",
    "MINE and MINE-$f$ have a neural network optimization process, it may take several minutes.\n",
    "\n",
    "MIGE takes only a few seconds.\n",
    "\n",
    "Results saved to ./results"
   ]
  },
  {
   "cell_type": "code",
   "execution_count": 15,
   "metadata": {},
   "outputs": [
    {
     "name": "stderr",
     "output_type": "stream",
     "text": [
      "  0%|          | 0/1 [00:00<?, ?it/s]"
     ]
    },
    {
     "name": "stdout",
     "output_type": "stream",
     "text": [
      "Complete: 8-d true values.\n",
      "  Save as: true_8.npz\n",
      "Complete: 16-d true values.\n",
      "  Save as: true_16.npz\n",
      "Complete: 32-d true values.\n",
      "  Save as: true_32.npz\n",
      "Compute MINE(DV) estimation, d=8\n"
     ]
    },
    {
     "name": "stderr",
     "output_type": "stream",
     "text": [
      "100%|██████████| 1/1 [00:36<00:00, 36.24s/it]\n",
      "  0%|          | 0/1 [00:00<?, ?it/s]"
     ]
    },
    {
     "name": "stdout",
     "output_type": "stream",
     "text": [
      "Complete: 1 times 8-d mine estimation.\n",
      "  Save as: mine_8.npz\n",
      "Compute MINE(DV) estimation, d=16\n"
     ]
    },
    {
     "name": "stderr",
     "output_type": "stream",
     "text": [
      "100%|██████████| 1/1 [00:32<00:00, 32.98s/it]\n",
      "  0%|          | 0/1 [00:00<?, ?it/s]"
     ]
    },
    {
     "name": "stdout",
     "output_type": "stream",
     "text": [
      "Complete: 1 times 16-d mine estimation.\n",
      "  Save as: mine_16.npz\n",
      "Compute MINE(DV) estimation, d=32\n"
     ]
    },
    {
     "name": "stderr",
     "output_type": "stream",
     "text": [
      "100%|██████████| 1/1 [00:33<00:00, 34.00s/it]\n",
      "  0%|          | 0/1 [00:00<?, ?it/s]"
     ]
    },
    {
     "name": "stdout",
     "output_type": "stream",
     "text": [
      "Complete: 1 times 32-d mine estimation.\n",
      "  Save as: mine_32.npz\n",
      "Compute MINE-f(NWJ) estimation, d=8\n"
     ]
    },
    {
     "name": "stderr",
     "output_type": "stream",
     "text": [
      "100%|██████████| 1/1 [00:26<00:00, 26.22s/it]\n",
      "  0%|          | 0/1 [00:00<?, ?it/s]"
     ]
    },
    {
     "name": "stdout",
     "output_type": "stream",
     "text": [
      "Complete: 1 times 8-d mine-f estimation.\n",
      "  Save as: mine-f_8.npz\n",
      "Compute MINE-f(NWJ) estimation, d=16\n"
     ]
    },
    {
     "name": "stderr",
     "output_type": "stream",
     "text": [
      "100%|██████████| 1/1 [00:28<00:00, 28.21s/it]\n",
      "  0%|          | 0/1 [00:00<?, ?it/s]"
     ]
    },
    {
     "name": "stdout",
     "output_type": "stream",
     "text": [
      "Complete: 1 times 16-d mine-f estimation.\n",
      "  Save as: mine-f_16.npz\n",
      "Compute MINE-f(NWJ) estimation, d=32\n"
     ]
    },
    {
     "name": "stderr",
     "output_type": "stream",
     "text": [
      "100%|██████████| 1/1 [00:26<00:00, 26.92s/it]\n",
      "  0%|          | 0/1 [00:00<?, ?it/s]"
     ]
    },
    {
     "name": "stdout",
     "output_type": "stream",
     "text": [
      "Complete: 1 times 32-d mine-f estimation.\n",
      "  Save as: mine-f_32.npz\n",
      "Compute MIGE estimation, d=8\n"
     ]
    },
    {
     "name": "stderr",
     "output_type": "stream",
     "text": [
      "100%|██████████| 1/1 [00:01<00:00,  1.69s/it]\n",
      "  0%|          | 0/1 [00:00<?, ?it/s]"
     ]
    },
    {
     "name": "stdout",
     "output_type": "stream",
     "text": [
      "Complete: 1 times 8-d mige estimation.\n",
      "  Save as: mige_8.npz\n",
      "Compute MIGE estimation, d=16\n"
     ]
    },
    {
     "name": "stderr",
     "output_type": "stream",
     "text": [
      "100%|██████████| 1/1 [00:01<00:00,  1.30s/it]\n",
      "  0%|          | 0/1 [00:00<?, ?it/s]"
     ]
    },
    {
     "name": "stdout",
     "output_type": "stream",
     "text": [
      "Complete: 1 times 16-d mige estimation.\n",
      "  Save as: mige_16.npz\n",
      "Compute MIGE estimation, d=32\n"
     ]
    },
    {
     "name": "stderr",
     "output_type": "stream",
     "text": [
      "100%|██████████| 1/1 [00:01<00:00,  1.30s/it]"
     ]
    },
    {
     "name": "stdout",
     "output_type": "stream",
     "text": [
      "Complete: 1 times 32-d mige estimation.\n",
      "  Save as: mige_32.npz\n"
     ]
    },
    {
     "name": "stderr",
     "output_type": "stream",
     "text": [
      "\n"
     ]
    }
   ],
   "source": [
    "ds = [8, 16, 32]\n",
    "num_lines = 1\n",
    "axis_min, axis_max = -0.8, 0.8\n",
    "\n",
    "for d in ds:\n",
    "    ComputeTrueValues(d, axis_min, axis_max)\n",
    "\n",
    "for d in ds:\n",
    "    ComputeMINE(d, axis_min, axis_max, num_lines)\n",
    "\n",
    "for d in ds:\n",
    "    ComputeMINE_F(d, axis_min, axis_max, num_lines)\n",
    "\n",
    "for d in ds:\n",
    "    ComputeMIGE(d, axis_min, axis_max, num_lines)"
   ]
  },
  {
   "cell_type": "markdown",
   "metadata": {
    "toc-hr-collapsed": true,
    "toc-nb-collapsed": true
   },
   "source": [
    "## Results\n",
    "\n",
    "High quality image saved to ./toy.pdf"
   ]
  },
  {
   "cell_type": "code",
   "execution_count": 16,
   "metadata": {},
   "outputs": [
    {
     "data": {
      "image/png": "[encoded data removed]",
      "text/plain": [
       "<Figure size 820.8x518.4 with 6 Axes>"
      ]
     },
     "metadata": {
      "needs_background": "light"
     },
     "output_type": "display_data"
    }
   ],
   "source": [
    "Draw(ds, num_lines)"
   ]
  }
 ],
 "metadata": {
  "kernelspec": {
   "display_name": "dim_torch1.2",
   "language": "python",
   "name": "dim_torch1.2"
  },
  "language_info": {
   "codemirror_mode": {
    "name": "ipython",
    "version": 3
   },
   "file_extension": ".py",
   "mimetype": "text/x-python",
   "name": "python",
   "nbconvert_exporter": "python",
   "pygments_lexer": "ipython3",
   "version": "3.6.9"
  }
 },
 "nbformat": 4,
 "nbformat_minor": 4
}
